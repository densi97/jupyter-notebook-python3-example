{
 "cells": [
  {
   "cell_type": "markdown",
   "metadata": {},
   "source": [
    "## Kurze Einführung in Jupyter Notebooks\n",
    "\n",
    "Ein Jupyter Notebook besteht aus sogenannten Zellen, in denen entweder Text/Erklärungen oder Code steht. Hier kannst du die vorgegeben Codezeilen einfach ausführen, aber auch nach deinen Wünschen ändern.\n",
    "Wenn du eine Code-Zelle veränderst und sie erneut ausführen möchtest, musst die Tastenkombination **`<Shift> + <Enter>`** drücken. \n",
    "Nur wenn du die Zellen erneut ausführst, sind die Änderungen auch für die anderen Zellen sichtbar.\n",
    "\n",
    "Um eine neue Zeile in einer Zelle einzufügen, kannst du ganz einfach die **`<Enter>`**-Taste drücken\n"
   ]
  },
  {
   "cell_type": "markdown",
   "metadata": {},
   "source": [
    "## Jupyter Notebook Tools\n",
    "In diesem Notebook werden deine Änderungen **nicht** gespeichert. Sobald du die Seite verlässt, ist auch dein Fortschritt weg. Du kannst deinen aktuellen Fortschritt aber gerne jederzeit auf deinem Rechner abspeichern, indem du das Notebook exportierst: `File`->`Download`.\n",
    "\n",
    "In der oberen Leiste des Editors siehst du mehrere Tools, die dir zur Verfügung stehen:\n",
    "\n",
    "#### Einfügen und Löschen von Zellen\n",
    "\n",
    "- Durch das Drücken der `+`-Taste kannst du eine neue Zelle unter der aktuellen einfügen.\n",
    "\n",
    "#### Das Notebook neu starten\n",
    "\n",
    "- Manchmal kann es vorkommen, dass es in Jupyter Notebooks zu Fehlern kommt. Wenn du das Gefühl hast, dass dein Code richtig ist, er aber keine Ausgabe produziert, dann starte den `Kernel` über das Menü neu: `Kernel`->`Restart Kernel and clear all Cells...`.\n",
    "\n",
    "#### Lokales Notebook importieren\n",
    "\n",
    "- Hast du bereits zu einem früheren Zeitpunkt an einem unserer Notebooks gearbeitet und es dir auf deinem Rechner abgespeichert? Dann kannst du es ganz einfach über das Menü importieren und daran weiterarbeiten: `Upload Files` (Symbol: Pfeil nach oben)\n",
    "\n",
    "<hr>"
   ]
  },
  {
   "cell_type": "markdown",
   "metadata": {},
   "source": [
    "## Referenzen\n",
    "\n",
    "- https://try.jupyter.org\n",
    "- https://docs.python.org/3/tutorial/index.html\n",
    "- https://docs.python.org/3/tutorial/introduction.html\n",
    "- https://daringfireball.net/projects/markdown/syntax\n",
    "\n",
    "<hr>"
   ]
  },
  {
   "cell_type": "markdown",
   "metadata": {},
   "source": [
    "## Python Objekte, Basistypen und Variablen\n",
    "\n",
    "In Python ist alles ein **Objekt** und jedes Objekt in Python hat einen **Typen**. Die Basistypen in Python sind:\n",
    "- **int** (integer; im deutschen ganze Zahlen, also alle ganzen Zahlen, ohne Nachkommastellen. Bsp: -245,-3,0,6,2000)\n",
    "- **float** (float; im deutschen Gleitkommazahlen, also alle Zahlen mit Nachkommastellen. Bsp: 3,1415)\n",
    "- **str** (string; im deutschen Zeichenketten, also quasi ein Wort. Eine Aneinanderreihung von Buchstaben)\n",
    "    - Strings können sowohl mit doppelten Anführungszeichen (\") umschlossen werden, als auch mit einfachem Anführungszeichen (')\n",
    "- **bool** (boolean; im deutschen Wahrheitswert. Ja oder Nein)\n",
    "    - True\n",
    "    - False\n",
    "- **NoneType** (ein Spezialtyp, der anzeigt, dass diese Variable keinen Wert enthält)\n",
    "\n",
    "Eine Variable ist ein Name, den du in deinem Code definierst, welcher \n",
    "\n",
    "In Python, a **variable** is a name you specify in your code that maps to a particular **object**, object **instance**, or value.\n",
    "\n",
    "Wir benötigen Variablen, um so auf bereits bekannte Objekte zugreifen zu können. Variablen können nur aus Buchstaben, Unterstrichen oder Nummern bestehen. Sie dürfen jedoch nicht mit einer Nummer beginnen.\n",
    "\n",
    "<hr>"
   ]
  },
  {
   "cell_type": "markdown",
   "metadata": {},
   "source": [
    "## Operatoren\n",
    "\n",
    "Die meisten Operatoren, die Python verwendet kennst du bereits aus dem Mathematik-Unterricht aus der Schule.\n",
    "- arithmetische Operatoren\n",
    "  - **`+`** (Addition)\n",
    "  - **`-`** (Subtraktion)\n",
    "  - **`*`** (Multiplikation)\n",
    "  - **`/`** (Division)\n",
    "  - __`**`__ (Exponent)    \n",
    "- Zuweisungs-Operatoren\n",
    "  - **`=`** (Wertzuweisung)\n",
    "  - **`+=`** (Kurzschreibweise für a = a+b; Wertzuweisung zu bestehendem Wert)\n",
    "  - **`-=`** (Kurzschreibweise für a = a-b; Wertzuweisung von bestehendem Wert)\n",
    "  - **`*=`** (Kurschreibweise für a = a*b; Wertzuweisung multip)\n",
    "- Vergleichs-Operatoren\n",
    "  - **`==`** (gleich)\n",
    "  - **`!=`** (ungleich)\n",
    "  - **`<`** (weniger als)\n",
    "  - **`<=`** (weniger oder gleich als)\n",
    "  - **`>`** (mehr als)\n",
    "  - **`>=`** (mehr oder gleich als)\n",
    "  \n",
    "Wenn mehrere Operatoren in einem einzigen Ausdruck verwendet werden, bestimmt **operator precedence**, welche Teile des Ausdrucks in welcher Reihenfolge ausgewertet werden. Operatoren mit höherer Priorität werden zuerst ausgewertet. Operatoren mit der gleichen Priorität werden von links nach rechts ausgewertet.\n",
    "Prioritäten:\n",
    "1. `()` Klammern zur Gruppierung\n",
    "2. `**` Exponent\n",
    "3. `*`, `/` Multiplikation und Division\n",
    "4. `+`, `-` Addition und Subtraktion\n",
    "5. `==`, `!=`, `<`, `<=`, `>`, `>=` Vergleichs-Operatoren\n",
    "\n",
    "> Für weitere Details https://docs.python.org/3/reference/expressions.html#operator-precedence"
   ]
  },
  {
   "cell_type": "code",
   "execution_count": null,
   "metadata": {},
   "outputs": [],
   "source": [
    "# Zuweisung von Zahlen zu Variablen\n",
    "num1 = 10\n",
    "num2 = -3\n",
    "num3 = 7.41\n",
    "num4 = -.6\n",
    "num5 = 7\n",
    "num6 = 3\n",
    "num7 = 11.11"
   ]
  },
  {
   "cell_type": "code",
   "execution_count": null,
   "metadata": {},
   "outputs": [],
   "source": [
    "# Addition\n",
    "num1 + num2"
   ]
  },
  {
   "cell_type": "code",
   "execution_count": null,
   "metadata": {},
   "outputs": [],
   "source": [
    "# Subtraktion\n",
    "num2 - num3"
   ]
  },
  {
   "cell_type": "code",
   "execution_count": null,
   "metadata": {},
   "outputs": [],
   "source": [
    "# Multiplikation\n",
    "num3 * num4"
   ]
  },
  {
   "cell_type": "code",
   "execution_count": null,
   "metadata": {},
   "outputs": [],
   "source": [
    "# Division\n",
    "num4 / num5"
   ]
  },
  {
   "cell_type": "code",
   "execution_count": null,
   "metadata": {},
   "outputs": [],
   "source": [
    "# Exponent\n",
    "num5 ** num6"
   ]
  },
  {
   "cell_type": "code",
   "execution_count": null,
   "metadata": {},
   "outputs": [],
   "source": [
    "# Addition zu existierender Variablen\n",
    "num7 += 4\n",
    "num7"
   ]
  },
  {
   "cell_type": "code",
   "execution_count": null,
   "metadata": {},
   "outputs": [],
   "source": [
    "# Subtraktion zu existierender Variablen\n",
    "num6 -= 2\n",
    "num6"
   ]
  },
  {
   "cell_type": "code",
   "execution_count": null,
   "metadata": {},
   "outputs": [],
   "source": [
    "# Multiplizieren zu existierender Variablen\n",
    "num3 *= 5\n",
    "num3"
   ]
  },
  {
   "cell_type": "code",
   "execution_count": null,
   "metadata": {},
   "outputs": [],
   "source": [
    "# Ergebnis einer Rechnung einer Variablen zuordnen\n",
    "num8 = num1 + num2 * num3\n",
    "num8"
   ]
  },
  {
   "cell_type": "code",
   "execution_count": null,
   "metadata": {},
   "outputs": [],
   "source": [
    "# Addition und Gleich-Vergleich\n",
    "num1 + num2 == num5"
   ]
  },
  {
   "cell_type": "code",
   "execution_count": null,
   "metadata": {},
   "outputs": [],
   "source": [
    "# Ungleich-Vergleich\n",
    "num3 != num4"
   ]
  },
  {
   "cell_type": "code",
   "execution_count": null,
   "metadata": {},
   "outputs": [],
   "source": [
    "# Kleiner-Vergleich\n",
    "num5 < num6"
   ]
  },
  {
   "cell_type": "code",
   "execution_count": null,
   "metadata": {},
   "outputs": [],
   "source": [
    "# Mehrfach Größer-Vergleich\n",
    "5 > 3 > 1"
   ]
  },
  {
   "cell_type": "code",
   "execution_count": null,
   "metadata": {},
   "outputs": [],
   "source": [
    "# Ist diese Aussage wahr?\n",
    "5 > 3 < 4 == 3 + 1"
   ]
  },
  {
   "cell_type": "code",
   "execution_count": null,
   "metadata": {},
   "outputs": [],
   "source": [
    "# Zuweisung von Zeichenketten (Strings)\n",
    "string1 = 'Ein Beispiel'\n",
    "string2 = \"Orangen \""
   ]
  },
  {
   "cell_type": "code",
   "execution_count": null,
   "metadata": {},
   "outputs": [],
   "source": [
    "# Addition von Strings\n",
    "string1 + ' wie der + Operator bei Strings aussieht'"
   ]
  },
  {
   "cell_type": "code",
   "execution_count": null,
   "metadata": {},
   "outputs": [],
   "source": [
    "# Beachten Sie, dass die Zeichenfolge nicht geändert wurde\n",
    "string1"
   ]
  },
  {
   "cell_type": "code",
   "execution_count": null,
   "metadata": {},
   "outputs": [],
   "source": [
    "# Multiplikation von Strings\n",
    "string2 * 4"
   ]
  },
  {
   "cell_type": "code",
   "execution_count": null,
   "metadata": {},
   "outputs": [],
   "source": [
    "# Dieser String wurde auch nicht verändert\n",
    "string2"
   ]
  },
  {
   "cell_type": "code",
   "execution_count": null,
   "metadata": {},
   "outputs": [],
   "source": [
    "# Sind die beiden Strings gleich?\n",
    "string1 == string2"
   ]
  },
  {
   "cell_type": "code",
   "execution_count": null,
   "metadata": {},
   "outputs": [],
   "source": [
    "# Dieser Vergleich geht auch mit einer Zeichenkette ohne Variablenzuweisung\n",
    "string1 == 'ein Beispiel'"
   ]
  },
  {
   "cell_type": "code",
   "execution_count": null,
   "metadata": {},
   "outputs": [],
   "source": [
    "# Addition und Neuzuweisung\n",
    "string1 += ', dass der Variablen einen weiteren String anhängt'\n",
    "string1"
   ]
  },
  {
   "cell_type": "code",
   "execution_count": null,
   "metadata": {},
   "outputs": [],
   "source": [
    "# Multiplikation und Neuzuweisung\n",
    "string2 *= 3\n",
    "string2"
   ]
  },
  {
   "cell_type": "code",
   "execution_count": null,
   "metadata": {},
   "outputs": [],
   "source": [
    "# Hinweis: Subtraktion & Division funktionieren nicht bei Strings."
   ]
  },
  {
   "cell_type": "markdown",
   "metadata": {},
   "source": [
    "## Basis Behälter\n",
    "\n",
    "> Hinweis: **Veränderliche** Objekte können nach der Erstellung modifiziert werden, **unveränderliche** Objekte nicht.\n",
    "\n",
    "Container sind Objekte, die zur Gruppierung anderer Objekte verwendet werden können. Zu den grundlegenden Containertypen gehören:\n",
    "\n",
    "- **`str`** (String: unveränderlich)\n",
    "- **`list`** (Liste: veränderlich)\n",
    "  - `[3, 5, 6, 3, 'Hund', 'Katze', False]`\n",
    "- **`tuple`** (Tupel: unveränderlich)\n",
    "  - `(3, 5, 6, 3, 'Hund', 'Katze', False)`\n",
    "- **`set`** (Menge: veränderlich, keine doppelten Werte)\n",
    "  - `{3, 5, 6, 3, 'Hund', 'Katze', False}`\n",
    "- **`dict`** (Lexikon: veränderlich)\n",
    "  - `{'Name': 'Jane', 'Alter': 23, 'Lieblingsessen': ['Pizza', 'Früchte', 'Fisch']}`\n",
    "\n",
    "Verwende bei der Definition von Listen, Tupeln oder Mengen Kommas (,), um die einzelnen Elemente zu trennen. Verwende bei der Definition von Lexikas einen Doppelpunkt (:), um Schlüssel von Werten zu trennen, und Kommas (,), um die Schlüssel-Wert-Paare zu trennen.\n",
    "\n",
    "Strings, Listen und Tupel sind alle **Sequenztypen**, die die Operatoren `+`, `*`, `+=` und `*=` verwenden können."
   ]
  },
  {
   "cell_type": "code",
   "execution_count": null,
   "metadata": {},
   "outputs": [],
   "source": [
    "# Zuweisung von Behältern\n",
    "list1 = [3, 5, 6, 3, 'Hund', 'Katze', False]\n",
    "tuple1 = (3, 5, 6, 3, 'Hund', 'Katze', False)\n",
    "set1 = {3, 5, 6, 3, 'Hund', 'Katze', False}\n",
    "dict1 = {'Name': 'Jane', 'Alter': 23, 'Lieblingsessen': ['Pizza', 'Früchte', 'Fisch']}"
   ]
  },
  {
   "cell_type": "code",
   "execution_count": null,
   "metadata": {},
   "outputs": [],
   "source": [
    "# Elemente von Listen werden in der Reihenfolge gespeichert, in der sie hinzugefügt wurden\n",
    "list1"
   ]
  },
  {
   "cell_type": "code",
   "execution_count": null,
   "metadata": {},
   "outputs": [],
   "source": [
    "# Elemente von Tupeln werden in der Reihenfolge gespeichert, in der sie hinzugefügt wurden\n",
    "tuple1"
   ]
  },
  {
   "cell_type": "code",
   "execution_count": null,
   "metadata": {},
   "outputs": [],
   "source": [
    "# Elemente von Mengen werden **nicht** in der Reihenfolge gespeichert, in der sie hinzugefügt wurden\n",
    "# Beachte außerdem, dass keine doppelten Werte vorkommen. In diesem Beispiel taucht die 3 nur einmal auf\n",
    "set1"
   ]
  },
  {
   "cell_type": "code",
   "execution_count": null,
   "metadata": {},
   "outputs": [],
   "source": [
    "# Elemente von Lexikas werden **nicht** in der Reihenfolge gespeichert, in der sie hinzugefügt wurden\n",
    "dict1"
   ]
  },
  {
   "cell_type": "code",
   "execution_count": null,
   "metadata": {},
   "outputs": [],
   "source": [
    "# Addition und Neuzuweisung\n",
    "list1 += [5, 'grapes']\n",
    "list1"
   ]
  },
  {
   "cell_type": "code",
   "execution_count": null,
   "metadata": {},
   "outputs": [],
   "source": [
    "# Addition und Neuzuweisung\n",
    "tuple1 += (5, 'grapes')\n",
    "tuple1"
   ]
  },
  {
   "cell_type": "code",
   "execution_count": null,
   "metadata": {},
   "outputs": [],
   "source": [
    "# Multiplikation\n",
    "[1, 2, 3, 4] * 2"
   ]
  },
  {
   "cell_type": "code",
   "execution_count": null,
   "metadata": {},
   "outputs": [],
   "source": [
    "# Multiplikation\n",
    "(1, 2, 3, 4) * 3"
   ]
  },
  {
   "cell_type": "markdown",
   "metadata": {},
   "source": [
    "## Zugriff auf Daten in Behältern\n",
    "\n",
    "Auf den Inhalt von Strings, Listen, Tupeln und Lexikas können wir mit ganzen Zahlen zugreifen. Sie werden durch eckige Klammern und einer Zahl indiziert.\n",
    "\n",
    "- Strings, Listen, und Tupel werden durch ganze Zahlen indiziert. Das **erste Element** wird immer **mit 0 indiziert**.\n",
    "- Lexikas werden durch ihren Schlüssel indiziert\n",
    "\n",
    "> Hinweis: Mengen werden nicht indiziert"
   ]
  },
  {
   "cell_type": "code",
   "execution_count": null,
   "metadata": {},
   "outputs": [],
   "source": [
    "# Zugriff auf das erste Element\n",
    "list1[0]"
   ]
  },
  {
   "cell_type": "code",
   "execution_count": null,
   "metadata": {},
   "outputs": [],
   "source": [
    "# Zugriff auf das letzte Element\n",
    "tuple1[-1]"
   ]
  },
  {
   "cell_type": "code",
   "execution_count": null,
   "metadata": {},
   "outputs": [],
   "source": [
    "# Zugriff auf alle Elemente zwischen Stelle 4 (inklusive) und 8 (exklusive)\n",
    "string1[3:8]"
   ]
  },
  {
   "cell_type": "code",
   "execution_count": null,
   "metadata": {},
   "outputs": [],
   "source": [
    "# Zugriff auf alle Elemente zwischen Stelle 0 (inklusive) und dem drittletzten Element (inklusive)\n",
    "tuple1[:-3]"
   ]
  },
  {
   "cell_type": "code",
   "execution_count": null,
   "metadata": {},
   "outputs": [],
   "source": [
    "# Zugriff auf alle Elemente von Stelle 5 (inklusive) bis zum Ende\n",
    "list1[4:]"
   ]
  },
  {
   "cell_type": "code",
   "execution_count": null,
   "metadata": {},
   "outputs": [],
   "source": [
    "# Zugriff auf ein Element in einem Lexikon\n",
    "dict1['Name']"
   ]
  },
  {
   "cell_type": "code",
   "execution_count": null,
   "metadata": {},
   "outputs": [],
   "source": [
    "# Zugriff auf ein Element in einer Liste in einem Lexikon\n",
    "dict1['Lieblingsessen'][2]"
   ]
  },
  {
   "cell_type": "markdown",
   "metadata": {},
   "source": [
    "## Eingebaute Python Funktionen\n",
    "\n",
    "Eine **Funktion** ist ein Python-Objekt, das Sie \"aufrufen\" können, um eine Aktion **auszuführen** oder ein anderes Objekt zu berechnen und **zurückzugeben**. Sie rufen eine Funktion auf, indem Sie Klammern rechts neben den Funktionsnamen setzen. Einige Funktionen erlauben es Ihnen, **Argumente** innerhalb der Klammern zu übergeben (wobei mehrere Argumente durch ein Komma getrennt werden). Intern in der Funktion werden diese Argumente wie Variablen behandelt.\n",
    "\n",
    "\n",
    "Python hat mehrere nützliche eingebaute Funktionen, die Ihnen die Arbeit mit verschiedenen Objekten und/oder Ihrer Umgebung erleichtern. Hier ist eine kleine Auswahl davon:\n",
    "\n",
    "- **`type(obj)`** ermittelt den Typ eines Objektes\n",
    "- **`len(behälter)`** ermittelt wie viele Elemente in einem Behälter sind\n",
    "- **`sorted(behälter)`** gibt eine neue sortierte Liste mit den Elementen des Behälters zurück\n",
    "- **`sum(behälter)`** ermittelt die Summe aller Zahlen in einem Behälter\n",
    "- **`min(behälter)`** ermittelt das Minimum aller Elemente in einem Behälter\n",
    "- **`max(behälter)`** ermittelt das Maximum aller Elemente in einem Behälter\n",
    "- **`abs(zahl)`** ermittelt den Absolutwert einer Zahl\n",
    "- **`repr(obj)`** gibt die String-Repräsentation eines Objektes zurück\n",
    "\n",
    "> Komplette Liste aller eingebauten Funktionen: https://docs.python.org/3/library/functions.html\n",
    "\n",
    "Es gibt auch die Möglichkeit eigene Funktionen zu definieren, was wir bald sehen werden."
   ]
  },
  {
   "cell_type": "code",
   "execution_count": null,
   "metadata": {},
   "outputs": [],
   "source": [
    "# Ermittel den Typ eines Objektes\n",
    "type(string1)"
   ]
  },
  {
   "cell_type": "code",
   "execution_count": null,
   "metadata": {},
   "outputs": [],
   "source": [
    "# Ermittel die Anzahl der Elemente eines Behälters\n",
    "len(dict1)"
   ]
  },
  {
   "cell_type": "code",
   "execution_count": null,
   "metadata": {},
   "outputs": [],
   "source": [
    "# Ermittel die Anzahl der Elemente eines Behälters\n",
    "len(string2)"
   ]
  },
  {
   "cell_type": "code",
   "execution_count": null,
   "metadata": {},
   "outputs": [],
   "source": [
    "# Gebe eine neue sortierte Liste mit den Elementen eines Behälters zurück\n",
    "sorted([10, 1, 3.6, 7, 5, 2, -3])"
   ]
  },
  {
   "cell_type": "code",
   "execution_count": null,
   "metadata": {},
   "outputs": [],
   "source": [
    "# Gebe eine neue sortierte Liste mit den Elementen eines Behälters zurück\n",
    "# Hinweis: Großbuchstaben kommen zuerst\n",
    "sorted(['dogs', 'cats', 'zebras', 'Chicago', 'California', 'ants', 'mice'])"
   ]
  },
  {
   "cell_type": "code",
   "execution_count": null,
   "metadata": {},
   "outputs": [],
   "source": [
    "# Ermittle die Summe aller Zahlen in einem Behälter\n",
    "sum([10, 1, 3.6, 7, 5, 2, -3])"
   ]
  },
  {
   "cell_type": "code",
   "execution_count": null,
   "metadata": {},
   "outputs": [],
   "source": [
    "# Ermittle das Minimum aller Elemente in einem Behälter\n",
    "min([10, 1, 3.6, 7, 5, 2, -3])"
   ]
  },
  {
   "cell_type": "code",
   "execution_count": null,
   "metadata": {},
   "outputs": [],
   "source": [
    "# Ermittle das Minimum aller Elemente in einem Behälter\n",
    "min(['g', 'z', 'a', 'y'])"
   ]
  },
  {
   "cell_type": "code",
   "execution_count": null,
   "metadata": {},
   "outputs": [],
   "source": [
    "# Ermittle das Maximum aller Elemente in einem Behälter\n",
    "max([10, 1, 3.6, 7, 5, 2, -3])"
   ]
  },
  {
   "cell_type": "code",
   "execution_count": null,
   "metadata": {},
   "outputs": [],
   "source": [
    "# Ermittle das Maximum aller Elemente in einem Behälter\n",
    "max('gibberish')"
   ]
  },
  {
   "cell_type": "code",
   "execution_count": null,
   "metadata": {},
   "outputs": [],
   "source": [
    "# Ermittle den Absolutwert einer Zahl\n",
    "abs(10)"
   ]
  },
  {
   "cell_type": "code",
   "execution_count": null,
   "metadata": {},
   "outputs": [],
   "source": [
    "# Ermittle den Absolutwert einer Zahl\n",
    "abs(-12)"
   ]
  },
  {
   "cell_type": "code",
   "execution_count": null,
   "metadata": {},
   "outputs": [],
   "source": [
    "# Gebe die String-Repräsentation eines Objektes zurück\n",
    "repr(set1)"
   ]
  },
  {
   "cell_type": "markdown",
   "metadata": {},
   "source": [
    "## Objekt-Attribute in Python\n",
    "\n",
    "Verschiedene Typen von Objekten in Python haben unterschiedliche **Attribute**, auf die mit Namen verwiesen werden kann (ähnlich wie eine Variable). Um auf ein Attribut eines Objekts zuzugreifen, verwenden Sie einen Punkt (`.`) nach dem Objekt, dann geben Sie das Attribut an (d.h. `obj.attribute`)\n",
    "\n",
    "Attribute können entweder Funktionen oder auch eine Eigenschaft sein. Eine Funktion eines Objektes wird auch **Methode** genannt. Eine Eigenschaft eines Objektes ist einfach eine Variable in diesem Objekt, welche wieder ein Objekt sein kann.\n",
    "\n",
    "\n",
    "\n",
    "Die eingebaute `dir()` Funktion kann verwendet werden, um eine Liste der Attribute eines Objekts zurückzugeben.\n",
    "\n",
    "<hr>"
   ]
  },
  {
   "cell_type": "markdown",
   "metadata": {},
   "source": [
    "## Methoden von Strings\n",
    "\n",
    "- **`.capitalize()`** den ersten Buchstaben einer Zeichenkette groß zu schreiben\n",
    "- **`.upper()`** alle Buchstaben einer Zeichenkette groß zu schreiben\n",
    "- **`.lower()`** alle Buchstaben einer Zeichenkette klein zu schreiben\n",
    "- **`.count(substring)`** die Anzahl der Vorkommnisse des übergebenen Strings (`substring`) zu zählen\n",
    "- **`.startswith(substring)`** überprüfen, ob der String mit dem übergebenen String (`substring`) anfängt\n",
    "- **`.endswith(substring)`** überprüfen, ob der String mit dem übergebenen String (`substring`) endet\n",
    "- **`.replace(old, new)`** alle Vorkommnisse von dem Wert von`old` mit dem Wert von `new` zu ersetzen"
   ]
  },
  {
   "cell_type": "code",
   "execution_count": null,
   "metadata": {},
   "outputs": [],
   "source": [
    "# Zuweisung einer Zeichenkette (String)\n",
    "a_string = 'dAs ist ein sTriNg'"
   ]
  },
  {
   "cell_type": "code",
   "execution_count": null,
   "metadata": {},
   "outputs": [],
   "source": [
    "# Zurückgeben des Strings, wobei nur der erste Buchstabe groß geschrieben wird\n",
    "a_string.capitalize()"
   ]
  },
  {
   "cell_type": "code",
   "execution_count": null,
   "metadata": {},
   "outputs": [],
   "source": [
    "# Zurückgeben des Strings, wobei alle Buchstabe groß geschrieben werden\n",
    "a_string.upper()"
   ]
  },
  {
   "cell_type": "code",
   "execution_count": null,
   "metadata": {},
   "outputs": [],
   "source": [
    "# Zurückgeben des Strings, wobei alle Buchstabe klein geschrieben werden\n",
    "a_string.lower()"
   ]
  },
  {
   "cell_type": "code",
   "execution_count": null,
   "metadata": {},
   "outputs": [],
   "source": [
    "# Beachte, dass die aufgerufenen Methoden den String nicht verändert haben\n",
    "a_string"
   ]
  },
  {
   "cell_type": "code",
   "execution_count": null,
   "metadata": {},
   "outputs": [],
   "source": [
    "# Zähle die Anzahl der Vorkommnisse von `i`\n",
    "a_string.count('i')"
   ]
  },
  {
   "cell_type": "code",
   "execution_count": null,
   "metadata": {},
   "outputs": [],
   "source": [
    "# # Zähle die Anzahl der Vorkommnisse von `i`, nach einer bestimmten Position\n",
    "a_string.count('i', 7)"
   ]
  },
  {
   "cell_type": "code",
   "execution_count": null,
   "metadata": {},
   "outputs": [],
   "source": [
    "# # Zähle die Anzahl der Vorkommnisse von `is`\n",
    "a_string.count('is')"
   ]
  },
  {
   "cell_type": "code",
   "execution_count": null,
   "metadata": {},
   "outputs": [],
   "source": [
    "# Beginnt der String mit `das`?\n",
    "a_string.startswith('das')"
   ]
  },
  {
   "cell_type": "code",
   "execution_count": null,
   "metadata": {},
   "outputs": [],
   "source": [
    "# Beginnt der String mit `das`, wenn vorher alle Buchstaben klein geschrieben wurden?\n",
    "a_string.lower().startswith('das')"
   ]
  },
  {
   "cell_type": "code",
   "execution_count": null,
   "metadata": {},
   "outputs": [],
   "source": [
    "# Endet der String mit `Ng`?\n",
    "a_string.endswith('Ng')"
   ]
  },
  {
   "cell_type": "code",
   "execution_count": null,
   "metadata": {},
   "outputs": [],
   "source": [
    "# Ersetze alle Vorkommnisse von `is` mit `XYZ`\n",
    "a_string.replace('is', 'XYZ')"
   ]
  },
  {
   "cell_type": "code",
   "execution_count": null,
   "metadata": {},
   "outputs": [],
   "source": [
    "# Ersetze alle Vorkommnisse von `i` mit `!`\n",
    "a_string.replace('i', '!')"
   ]
  },
  {
   "cell_type": "code",
   "execution_count": null,
   "metadata": {},
   "outputs": [],
   "source": [
    "# Ersetze die ersten beiden Vorkommnisse von `i` mit `!`\n",
    "a_string.replace('i', '!', 2)"
   ]
  },
  {
   "cell_type": "markdown",
   "metadata": {},
   "source": [
    "## Methoden von Listen\n",
    "\n",
    "- **`.append(item)`** ein einzelnes Element der Liste hinzufügen\n",
    "- **`.extend([item1, item2, ...])`** mehrere Elemente der Liste hinzufügen\n",
    "- **`.remove(item)`** ein einzelnes Element der Liste entfernen\n",
    "- **`.pop()`** das letzte Element der Liste entfernen\n",
    "- **`.pop(index)`** das Element an der Stelle `index` der Liste entfernen und zurückgeben"
   ]
  },
  {
   "cell_type": "code",
   "execution_count": null,
   "metadata": {},
   "outputs": [],
   "source": [
    "# Zuweisung einer Liste\n",
    "list1 = ['Hund', 'Katze', 'Maus', 'Vogel']"
   ]
  },
  {
   "cell_type": "code",
   "execution_count": null,
   "metadata": {},
   "outputs": [],
   "source": [
    "# Hinzufügen eines Elements in die Liste\n",
    "list1.append('Tiger')"
   ]
  },
  {
   "cell_type": "code",
   "execution_count": null,
   "metadata": {},
   "outputs": [],
   "source": [
    "# Hinzufügen mehrere Elemente zur Liste \n",
    "list1.extend(['Pferd', 'Fisch'])"
   ]
  },
  {
   "cell_type": "code",
   "execution_count": null,
   "metadata": {},
   "outputs": [],
   "source": [
    "# Entfernen eines Elements aus der Liste\n",
    "list1.remove('Tiger')"
   ]
  },
  {
   "cell_type": "code",
   "execution_count": null,
   "metadata": {},
   "outputs": [],
   "source": [
    "# Entfernen und zurückgeben des letzten Elements aus der Liste \n",
    "list1.pop()"
   ]
  },
  {
   "cell_type": "code",
   "execution_count": null,
   "metadata": {},
   "outputs": [],
   "source": [
    "# Entfernen und zurückgeben des Elements an Stelle 4\n",
    "list1.pop(3)"
   ]
  },
  {
   "cell_type": "code",
   "execution_count": null,
   "metadata": {},
   "outputs": [],
   "source": [
    "print(list1)"
   ]
  },
  {
   "cell_type": "markdown",
   "metadata": {},
   "source": [
    "## Methoden von Mengen\n",
    "\n",
    "- **`.add(item)`** ein einzelnes Element der Menge hinzufügen\n",
    "- **`.update([item1, item2, ...])`** mehrere Elemente der Menge hinzufügen\n",
    "- **`.remove(item)`** ein einzelnes Element der Menge entfernen\n",
    "- **`.pop()`** ein zufälliges Element der Menge entfernen\n",
    "- **`.difference(set2)`** gibt alle Elemente zurück, die in der aufgerufenen Menge enthalten sind, aber nicht in der Mengen `set2`\n",
    "- **`.intersection(set2)`** gibt alle Elemente zurück, die in beiden Mengen enthalten sind\n",
    "- **`.union(set2)`** gibt alle Elemente, die mindestens in einem der beiden Mengen sind zurück\n",
    "- **`.symmetric_difference(set2)`** gibt alle Elemente, die genau in einem der beiden Mengen sind zurück"
   ]
  },
  {
   "cell_type": "code",
   "execution_count": null,
   "metadata": {},
   "outputs": [],
   "source": [
    "# Zuweisung einer Menge\n",
    "set1 = {'Florian', 'Alex', 'Maria'}\n",
    "set2 = {'Felix', 'Florian', 'Celine'}"
   ]
  },
  {
   "cell_type": "code",
   "execution_count": null,
   "metadata": {},
   "outputs": [],
   "source": [
    "# Hinzufügen eines Elements zur Menge (wenn noch nicht vorhanden)\n",
    "set1.add('Felix')"
   ]
  },
  {
   "cell_type": "code",
   "execution_count": null,
   "metadata": {},
   "outputs": [],
   "source": [
    "# Entfernen eines Elements aus der Menge\n",
    "set1.remove('Florian')"
   ]
  },
  {
   "cell_type": "code",
   "execution_count": null,
   "metadata": {},
   "outputs": [],
   "source": [
    "# Entfernen und zurückgeben eines zufälligen Elements\n",
    "set1.pop()"
   ]
  },
  {
   "cell_type": "code",
   "execution_count": null,
   "metadata": {},
   "outputs": [],
   "source": [
    "# Ausgeben aller Elemente aus set1, die nicht in set2 enthalten sind\n",
    "print(set1)\n",
    "print(set2)\n",
    "set1.difference(set2)"
   ]
  },
  {
   "cell_type": "code",
   "execution_count": null,
   "metadata": {},
   "outputs": [],
   "source": [
    "# Ausgeben aller Elemente, die in beiden Mengen enthalten sind\n",
    "print(set1)\n",
    "print(set2)\n",
    "set1.intersection(set2)"
   ]
  },
  {
   "cell_type": "code",
   "execution_count": null,
   "metadata": {},
   "outputs": [],
   "source": [
    "# Ausgeben aller Elemente, die mindestens in einem der beiden Mengen sind\n",
    "print(set1)\n",
    "print(set2)\n",
    "set1.union(set2)"
   ]
  },
  {
   "cell_type": "code",
   "execution_count": null,
   "metadata": {},
   "outputs": [],
   "source": [
    "# Ausgeben aller Elemente, die genau in einem der beiden Mengen vorkommen\n",
    "print(set1)\n",
    "print(set2)\n",
    "set1.symmetric_difference(set2)"
   ]
  },
  {
   "cell_type": "markdown",
   "metadata": {},
   "source": [
    "## Methoden von Lexikas\n",
    "\n",
    "- **`.update([(key1, val1), (key2, val2), ...])`** füge mehrere Schlüssel-Wert Paare hinzu\n",
    "- **`.update(dict2)`** füge alle Schlüssel-Wert Paare aus `dict2` hinzu\n",
    "- **`.pop(schlüssel)`** entferne `schlüssel` aus dem Lexikon und gebe den zugehörigen Wert zurück\n",
    "- **`.get(schlüssel)`** gebe den passenden Wert zum Schlüssel `schlüssel` zurück\n",
    "- **`.keys()`** gebe eine Liste mit allen Schlüsseln zurück\n",
    "- **`.values()`** gebe eine Liste mit allen Werten zurück\n",
    "- **`.items()`** gebe eine Liste mit allen Schlüssel Wert Paaren als Tupel zurück"
   ]
  },
  {
   "cell_type": "code",
   "execution_count": null,
   "metadata": {},
   "outputs": [],
   "source": [
    "# Zuweisung eines Lexikons\n",
    "dict1 = {'Name': 'Kai', 'Alter': 22, 'Hobbies': ['Fußball', 'Schwimmen', 'Videospiele spielen']}"
   ]
  },
  {
   "cell_type": "code",
   "execution_count": null,
   "metadata": {},
   "outputs": [],
   "source": [
    "# Hinzufügen mehrerer Schlüssel-Wert Paare\n",
    "dict1.update([('Größe', '180cm'), ('Lieblingsfach', 'Informatik')])"
   ]
  },
  {
   "cell_type": "code",
   "execution_count": null,
   "metadata": {},
   "outputs": [],
   "source": [
    "# Entfernen und zurückgeben eines Schlüssel (inklusive Wert) aus dem Lexikon\n",
    "dict1.pop('Lieblingsfach')"
   ]
  },
  {
   "cell_type": "code",
   "execution_count": null,
   "metadata": {},
   "outputs": [],
   "source": [
    "# Zurückgeben eines Wert zum übergebenen Schlüssel\n",
    "dict1.get('Name')"
   ]
  },
  {
   "cell_type": "code",
   "execution_count": null,
   "metadata": {},
   "outputs": [],
   "source": [
    "# Zurückgeben aller Schlüssel als Liste\n",
    "dict1.keys()"
   ]
  },
  {
   "cell_type": "code",
   "execution_count": null,
   "metadata": {},
   "outputs": [],
   "source": [
    "# Zurückgeben aller Werte als Liste\n",
    "dict1.values()"
   ]
  },
  {
   "cell_type": "code",
   "execution_count": null,
   "metadata": {},
   "outputs": [],
   "source": [
    "# Zurückgeben aller Schlüssel-Wert-Paare als Tupel in einer Liste\n",
    "dict1.items()"
   ]
  },
  {
   "cell_type": "markdown",
   "metadata": {},
   "source": [
    "## Definiere deine eigenen Funktionen und Methoden"
   ]
  },
  {
   "cell_type": "markdown",
   "metadata": {},
   "source": [
    "Eigene Funktionen können durch das Schlüsselwort `def` definiert werden.\n",
    "Nach dem Schlüsselwort gibst du der Funktion einen Namen und gibst an, welche und wie viele Argumente die Funktion entgegen nehmen soll (mehr dazu im nächsten Abschnitt).\n",
    "\n",
    "Funktionen werden zumeist verwendet, wenn eine bestimmte Berechnung oder Aktion öfter durchgeführt werden muss. Dadurch muss der Code für die Berechnung oder Aktion nicht mehrmals geschrieben werden. Außerdem vereinfacht es das Beheben von Fehlern, da der Code nur einmal vorhanden ist, statt mehrmals.\n",
    "\n",
    "Funktionen können auch die berechneten Werte an den Funktions-Aufrufer zurückgeben, damit dieser mit den Werten weiter rechnen kann. Um den Wert einer Berechnung in einer Funktion zurückzugeben, existiert das Schlüsselwort `return`, welches vor dem zurückzugebenen Wert steht."
   ]
  },
  {
   "cell_type": "code",
   "execution_count": 1,
   "metadata": {},
   "outputs": [],
   "source": [
    "# Beispiel einer Funktionsdeklaration namens multi mit zwei Argumenten\n",
    "# Gibt die Multiplikation zweier Zahlen aus\n",
    "def multi(a, b):\n",
    "    print(a*b)"
   ]
  },
  {
   "cell_type": "code",
   "execution_count": 24,
   "metadata": {},
   "outputs": [],
   "source": [
    "# Beispiel einer Funktionsdeklaration namens concat mit zwei Argumenten\n",
    "# Gibt die Konkatenation (Aneinanderhängung von Strings) zweier Strings dem Aufrufer zurück\n",
    "\n",
    "# Wir legen hier fest, dass die übergebenen Werte x und y  vom Typ String sein müssen. So kann unsere Programm, in dem wir entwickeln uns darauf hinweisen, \n",
    "# wenn wir eine Funktion mit den falschen Argumenten aufrufen\n",
    "def concat(x: str, y: str):\n",
    "    return x + y"
   ]
  },
  {
   "cell_type": "markdown",
   "metadata": {},
   "source": [
    "## Funktionen aufrufen\n",
    "\n",
    "Es gibt verschiedene Möglichkeiten Funktionen auszuführen:\n",
    "\n",
    "- `func()`: eine Funktion namens `func` ohne Argumente ausführen\n",
    "- `func(arg)`: eine Funktion namens `func` mit einem Argument ausführen\n",
    "- `func(arg1, arg2)`: eine Funktion namens `func` mit zwei Argumenten ausführen\n",
    "- `func(arg1, arg2, ..., argn)`: eine Funktion namens `func` mit n Argumenten ausführen\n",
    "\n",
    "Schlüsselwort-Argumente sind in der Funktion angegeben. Anders als bei positionalen Argumenten ist hier die Reihenfolge in der die Argumente übergeben werden nicht entscheident:\n",
    "- `func(kwarg=value)`: eine Funktion namens `func` mit einem Schlüsselwort-Argument namens `kwarg` ausführen\n",
    "- `func(kwarg1=value1, kwarg2=value2)`: eine Funktion namens `func` mit zwei Schlüsselwort-Argumenten namens `kwarg1` und `kwarg2` ausführen\n",
    "- `func(kwarg1=value1, kwarg2=value2, ..., kwargn=valuen)`: eine Funktion namens `func` mit mehreren Schlüsselwort-Argumenten ausführen\n",
    "- `func(arg1, arg2, kwarg1=value1, kwarg2=value2)`: eine Funktion namens `func` mit zwei positionalen Argumenten und zwei Schlüsselwort-Argument ausführen\n",
    "\n",
    "Positionale Argumente müssen in der Reihenfolge angegeben werden, wie sie in der Funktion definiert sind, Schlüsselwort-Argumente nicht.\n",
    "Wenn beide Arten benutzt werden, dann müssen zuerst die positionalen Argumente übergeben werden.\n"
   ]
  },
  {
   "cell_type": "code",
   "execution_count": 4,
   "metadata": {},
   "outputs": [
    {
     "name": "stdout",
     "output_type": "stream",
     "text": [
      "40\n"
     ]
    }
   ],
   "source": [
    "# Aufrufen der oben definierten Funktion multi\n",
    "multi(10, 4)"
   ]
  },
  {
   "cell_type": "code",
   "execution_count": 9,
   "metadata": {},
   "outputs": [
    {
     "name": "stdout",
     "output_type": "stream",
     "text": [
      "Hallo Welt\n"
     ]
    }
   ],
   "source": [
    "# Aufrufen der oben definierten Funktion concat und speichern des zurückgegebenen Wertes in der Variable s\n",
    "s = concat('Hallo ', 'Welt')\n",
    "print(s)"
   ]
  },
  {
   "cell_type": "code",
   "execution_count": 12,
   "metadata": {},
   "outputs": [],
   "source": [
    "# Definiere eine Funktion mit mehreren positionalen und Schlüsselwort-Argumenten\n",
    "# a & b sind positionale Argumente\n",
    "# multi & sub sind Schlüsselwort-Argumente, welche Standardwerte mitgegeben bekommen\n",
    "# wenn multi beim Aufruf nicht mitgegeben wird, dann wird es innerhalb der Funktion zu 1 ausgewertet\n",
    "# wenn sub beim Aufruf nicht mitgegeben wird, dann wird es innerhalb der Funktion zu 0 ausgewertet\n",
    "def calc(a, b, multi=1, sub=0):\n",
    "    return (a + b * multi - sub)"
   ]
  },
  {
   "cell_type": "code",
   "execution_count": 13,
   "metadata": {},
   "outputs": [
    {
     "data": {
      "text/plain": [
       "30"
      ]
     },
     "execution_count": 13,
     "metadata": {},
     "output_type": "execute_result"
    }
   ],
   "source": [
    "calc(10, 20)"
   ]
  },
  {
   "cell_type": "code",
   "execution_count": 14,
   "metadata": {},
   "outputs": [
    {
     "data": {
      "text/plain": [
       "25"
      ]
     },
     "execution_count": 14,
     "metadata": {},
     "output_type": "execute_result"
    }
   ],
   "source": [
    "calc(10, 20, sub=5)"
   ]
  },
  {
   "cell_type": "code",
   "execution_count": 15,
   "metadata": {},
   "outputs": [
    {
     "data": {
      "text/plain": [
       "50"
      ]
     },
     "execution_count": 15,
     "metadata": {},
     "output_type": "execute_result"
    }
   ],
   "source": [
    "calc(10, 20, multi=2)"
   ]
  },
  {
   "cell_type": "code",
   "execution_count": 16,
   "metadata": {},
   "outputs": [
    {
     "data": {
      "text/plain": [
       "45"
      ]
     },
     "execution_count": 16,
     "metadata": {},
     "output_type": "execute_result"
    }
   ],
   "source": [
    "calc(10, 20, sub=5, multi=2)"
   ]
  },
  {
   "cell_type": "markdown",
   "metadata": {},
   "source": [
    "## Strings formatieren"
   ]
  },
  {
   "cell_type": "markdown",
   "metadata": {},
   "source": [
    "Innerhalb von Strings können Platzhalter platziert werden, die später mit Daten befüllt werden. Dabei dienen \"`{}`\" als Platzhalter.\n",
    "Wir führen dafür die Funktion `format()` auf dem String auf und übergeben die Daten als positionale Argumente, d.h. das erste Argument ersetzt das erste Vorkommen von \"`{}`\", das zweite Argument das zweite Vorkommen, etc."
   ]
  },
  {
   "cell_type": "code",
   "execution_count": 17,
   "metadata": {},
   "outputs": [
    {
     "name": "stdout",
     "output_type": "stream",
     "text": [
      "Addieren wir A=10 mit B=20, so erhalten wir 30.\n"
     ]
    }
   ],
   "source": [
    "a = 10\n",
    "b = 20\n",
    "string1 = \"Addieren wir A={} mit B={}, so erhalten wir {}.\".format(a, b, a+b)\n",
    "print(string1)"
   ]
  },
  {
   "cell_type": "markdown",
   "metadata": {},
   "source": [
    "## For-Schleifen\n",
    "\n",
    "\n",
    "\n",
    "Es ist einfach, mit einer **for-Schleife** über die Elemente eines Behälters zu **iterieren**. Die von uns definierten Strings, Listen, Tupel, Mengen und Lexikas sind allesamt **iterierbare** Behälter.\n",
    "\n",
    "Die for-Schleife durchläuft den Behälter, ein Element nach dem anderen, und stellt eine temporäre Variable für das aktuelle Element bereit. Du kannst diese temporäre Variable wie eine normale Variable verwenden."
   ]
  },
  {
   "cell_type": "code",
   "execution_count": null,
   "metadata": {},
   "outputs": [],
   "source": [
    "tiere = ['Hund', 'Katze', 'Maus', 'Hase']\n",
    "for tier in tiere:\n",
    "    print(tier)"
   ]
  },
  {
   "cell_type": "code",
   "execution_count": null,
   "metadata": {},
   "outputs": [],
   "source": [
    "personen = {'Paul': '123', 'Natalie': '912', 'Helmut': '114', 'Chiara': '672'}\n",
    "for person in personen:\n",
    "    print(person)\n",
    "# Platzhalter    \n",
    "print('########')\n",
    "for person in personen:\n",
    "    print(personen[person])"
   ]
  },
  {
   "cell_type": "markdown",
   "metadata": {},
   "source": [
    "## If-Abfragen und while-Schleifen\n",
    "\n",
    "Wahr oder Falsch Abfragen können mit folgenden Ausdrücken umgesetzt werden:\n",
    "\n",
    "Die **if-Anweisung** ermöglicht es dir, eine Bedingung zu testen und einige Aktionen durchzuführen, wenn die Bedingung als `Wahr` ausgewertet wird. Du kannst einer if-Anweisung auch `elif` und/oder `else`-Klauseln hinzufügen, um alternative Aktionen durchzuführen, wenn die Bedingung als `False` ausgewertet wird.\n",
    "\n",
    "Die **while-Schleife** bleibt so lange in der Schleife, bis ihr Bedingungsausdruck als `Falsch` gewertet wird.\n",
    "\n",
    "> Hinweis: Es ist möglich, eine \"ewige Schleife\" zu bilden, wenn eine while-Schleife mit einem bedingten Ausdruck verwendet wird, der niemals als \"falsch\" ausgewertet wird.\n",
    "\n",
    "> Hinweis: Da die **for-Schleife** über einen Behälter mit Elementen iteriert, bis es keine mehr gibt, ist es nicht notwendig, eine Bedingung anzugeben."
   ]
  },
  {
   "cell_type": "code",
   "execution_count": 25,
   "metadata": {},
   "outputs": [
    {
     "name": "stdout",
     "output_type": "stream",
     "text": [
      "A ist größer als B\n"
     ]
    }
   ],
   "source": [
    "# Setze verschiedene Werte für a und b ein, um zu sehen was passiert\n",
    "a = 5\n",
    "b = 2\n",
    "if a > b:\n",
    "    print(\"A ist größer als B\")\n",
    "elif a < b:\n",
    "    print(\"A ist kleiner als B\")\n",
    "else:\n",
    "    print(\"A ist gleich B\")\n"
   ]
  },
  {
   "cell_type": "code",
   "execution_count": 26,
   "metadata": {},
   "outputs": [
    {
     "name": "stdout",
     "output_type": "stream",
     "text": [
      "0\n",
      "1\n",
      "2\n",
      "3\n",
      "4\n",
      "5\n",
      "6\n",
      "7\n",
      "8\n",
      "9\n"
     ]
    }
   ],
   "source": [
    "counter = 0\n",
    "while counter < 10:\n",
    "    print(counter)\n",
    "    counter += 1"
   ]
  },
  {
   "cell_type": "code",
   "execution_count": 29,
   "metadata": {},
   "outputs": [
    {
     "name": "stdout",
     "output_type": "stream",
     "text": [
      "55\n"
     ]
    }
   ],
   "source": [
    "# Berechnung der Gaußschen Summenformel (Wikipedia: https://de.wikipedia.org/wiki/Gau%C3%9Fsche_Summenformel)\n",
    "a = 10\n",
    "res = 0\n",
    "while a > 0:\n",
    "    res += a\n",
    "    a -=1\n",
    "print(res)"
   ]
  },
  {
   "cell_type": "markdown",
   "metadata": {},
   "source": [
    "## Module importieren"
   ]
  },
  {
   "cell_type": "markdown",
   "metadata": {},
   "source": [
    "In Python sind viele Funktionen bereits in Modulen/Bibliotheken vordefiniert, sodass du diese nur noch importieren (deinem Projekt hinzufügen) musst und schon kannst du sie benutzen.\n",
    "Das ganze ist über den Befehl `import` möglich:   \n",
    "`import Modulname`\n",
    "\n",
    "> Hindweis: Überlicherweise werden Module/Bibliotheken immer am Anfang einer Datei hinzugefügt, um die Einbindungen übersichtlich zu halten."
   ]
  },
  {
   "cell_type": "code",
   "execution_count": 21,
   "metadata": {},
   "outputs": [],
   "source": [
    "# Einbinden des Moduls/Bibliothek math \n",
    "import math"
   ]
  },
  {
   "cell_type": "code",
   "execution_count": 22,
   "metadata": {},
   "outputs": [
    {
     "data": {
      "text/plain": [
       "5.0"
      ]
     },
     "execution_count": 22,
     "metadata": {},
     "output_type": "execute_result"
    }
   ],
   "source": [
    "# Ausführen der Wurzelfunktion des Moduls math\n",
    "math.sqrt(25)"
   ]
  },
  {
   "cell_type": "markdown",
   "metadata": {},
   "source": [
    "## Ausnahmen/Exceptions"
   ]
  },
  {
   "cell_type": "markdown",
   "metadata": {},
   "source": [
    "Ausnahmen werden geworfen, wenn es einen Fehler im Programm gibt. Es gibt viele verschiedene Arten von Außnahmen und jede von ihnen kann gefangen werden und so kann auf diese Ausnahmen entsprechend reagiert werden.   \n",
    "Wird eine Ausnahme **nicht** gefangen, so beendet das Programm automatisch und gibt die Fehlermeldung zurück.   \n",
    "Wird eine Ausnahme gefangen, so signalisiert der Programmierer, dass er weiß, dass an einer gewissen Stelle zu einem Fehler kommen kann und er diesen behandeln wird. Das Programm läuft weiter."
   ]
  },
  {
   "cell_type": "code",
   "execution_count": 31,
   "metadata": {},
   "outputs": [],
   "source": [
    "# Deklaration einer Funktion, die zwei Zahlen miteinander addiert\n",
    "def add(a, b):\n",
    "    return a+b"
   ]
  },
  {
   "cell_type": "code",
   "execution_count": 32,
   "metadata": {},
   "outputs": [
    {
     "ename": "TypeError",
     "evalue": "unsupported operand type(s) for +: 'int' and 'str'",
     "output_type": "error",
     "traceback": [
      "\u001b[0;31m---------------------------------------------------------------------------\u001b[0m",
      "\u001b[0;31mTypeError\u001b[0m                                 Traceback (most recent call last)",
      "\u001b[0;32m<ipython-input-32-9865323e411b>\u001b[0m in \u001b[0;36m<module>\u001b[0;34m\u001b[0m\n\u001b[1;32m      1\u001b[0m \u001b[0;31m# Fehlerhafter Aufruf der Funktion add mit einer Zahl und einem String ohne Fangen der Ausnahme (wirft absichtlich eine Ausnahme)\u001b[0m\u001b[0;34m\u001b[0m\u001b[0;34m\u001b[0m\u001b[0;34m\u001b[0m\u001b[0m\n\u001b[0;32m----> 2\u001b[0;31m \u001b[0madd\u001b[0m\u001b[0;34m(\u001b[0m\u001b[0;36m5\u001b[0m\u001b[0;34m,\u001b[0m \u001b[0;34m'Hallo'\u001b[0m\u001b[0;34m)\u001b[0m\u001b[0;34m\u001b[0m\u001b[0;34m\u001b[0m\u001b[0m\n\u001b[0m",
      "\u001b[0;32m<ipython-input-31-a9a7fd5a0c34>\u001b[0m in \u001b[0;36madd\u001b[0;34m(a, b)\u001b[0m\n\u001b[1;32m      1\u001b[0m \u001b[0;31m# Deklaration einer Funktion, die zwei Zahlen miteinander addiert\u001b[0m\u001b[0;34m\u001b[0m\u001b[0;34m\u001b[0m\u001b[0;34m\u001b[0m\u001b[0m\n\u001b[1;32m      2\u001b[0m \u001b[0;32mdef\u001b[0m \u001b[0madd\u001b[0m\u001b[0;34m(\u001b[0m\u001b[0ma\u001b[0m\u001b[0;34m,\u001b[0m \u001b[0mb\u001b[0m\u001b[0;34m)\u001b[0m\u001b[0;34m:\u001b[0m\u001b[0;34m\u001b[0m\u001b[0;34m\u001b[0m\u001b[0m\n\u001b[0;32m----> 3\u001b[0;31m     \u001b[0;32mreturn\u001b[0m \u001b[0ma\u001b[0m\u001b[0;34m+\u001b[0m\u001b[0mb\u001b[0m\u001b[0;34m\u001b[0m\u001b[0;34m\u001b[0m\u001b[0m\n\u001b[0m",
      "\u001b[0;31mTypeError\u001b[0m: unsupported operand type(s) for +: 'int' and 'str'"
     ]
    }
   ],
   "source": [
    "# Fehlerhafter Aufruf der Funktion add mit einer Zahl und einem String ohne Fangen der Ausnahme (wirft absichtlich eine Ausnahme)\n",
    "add(5, 'Hallo')"
   ]
  },
  {
   "cell_type": "code",
   "execution_count": 36,
   "metadata": {},
   "outputs": [
    {
     "name": "stdout",
     "output_type": "stream",
     "text": [
      "15\n"
     ]
    }
   ],
   "source": [
    "# Fehlerhafter Aufruf der Funktion add mit einer Zahl und einem String mit Fangen der Ausnahme\n",
    "# Die Ausnahme die geschmissen wurde nennt sich TypeError, da wir hier versucht haben eine Zahl mit einem String zu addieren\n",
    "# Mit den Schlüsselwörtern try und except können wir so die Ausnahme fangen und entsprechend reagieren\n",
    "try:\n",
    "    a = add(5, 'Hallo')\n",
    "except TypeError:\n",
    "    a = add(5, 10)\n",
    "print(a)"
   ]
  },
  {
   "cell_type": "markdown",
   "metadata": {},
   "source": [
    "## Klassen\n",
    "erzeuge deine eigenen Objekte:"
   ]
  },
  {
   "cell_type": "code",
   "execution_count": null,
   "metadata": {},
   "outputs": [],
   "source": [
    "# Definiere eine neue Klasse namens `Objekt`\n",
    "class Objekt:\n",
    "    eigenschaft = 'Ich bin ein Objekt'\n",
    "\n",
    "\n",
    "# Define a new class called `DictThing` that is derived from the `dict` type\n",
    "# Definiere eine neue Klasse namens MeinDict, welche alle Eigenschaften und Funktionen von dict (Lexikas) erbt\n",
    "class MeinDict(dict):\n",
    "    eigenschaft = 'Ich bin ein MeinDict'"
   ]
  },
  {
   "cell_type": "code",
   "execution_count": null,
   "metadata": {},
   "outputs": [],
   "source": [
    "print(Objekt)\n",
    "print(type(Objekt))\n",
    "print(MeinDict)\n",
    "print(type(MeinDict))\n",
    "print(issubclass(MeinDict, dict))\n",
    "print(issubclass(MeinDict, object))"
   ]
  },
  {
   "cell_type": "code",
   "execution_count": null,
   "metadata": {},
   "outputs": [],
   "source": [
    "# Erstelle eine \"Instanz\" deiner Klasse\n",
    "t = Objekt()\n",
    "d = MeinDict()\n",
    "print(t)\n",
    "print(type(t))\n",
    "print(d)\n",
    "print(type(d))"
   ]
  },
  {
   "cell_type": "code",
   "execution_count": null,
   "metadata": {},
   "outputs": [],
   "source": [
    "# Interagiere mit deiner MeinDict Instanz, wie mit einem normalen Lexikon\n",
    "d['name'] = 'Sally'\n",
    "print(d)"
   ]
  },
  {
   "cell_type": "code",
   "execution_count": null,
   "metadata": {},
   "outputs": [],
   "source": [
    "d.update({\n",
    "        'Alter': 13,\n",
    "        'Lieblingsessen': ['Pizza', 'Sushi', 'Burger', 'Nudeln'],\n",
    "        'Lieblingsfarbe': 'blau',\n",
    "    })\n",
    "print(d)"
   ]
  },
  {
   "cell_type": "code",
   "execution_count": null,
   "metadata": {},
   "outputs": [],
   "source": [
    "print(d.eigenschaft)"
   ]
  },
  {
   "cell_type": "markdown",
   "metadata": {},
   "source": [
    "## Konstruktor für deine Klassen"
   ]
  },
  {
   "cell_type": "markdown",
   "metadata": {},
   "source": [
    "Nun weißt du wie du deine eigenen Klassen definieren kannst. Aber was ist, wenn du nun keine festen Eigenschaften für deine Klasse möchtest, sondern die Objekte deiner Klasse vielseitig sein können.   \n",
    "Genau dafür existieren Konstruktoren.   \n",
    "In unserem Beispiel definieren wir eine neue Klasse `Auto`. Unser Auto hat folgende Eigenschaften: `Marke`, `PS` und `Farbe`."
   ]
  },
  {
   "cell_type": "code",
   "execution_count": 37,
   "metadata": {},
   "outputs": [],
   "source": [
    "class Auto:\n",
    "    def __init__(self, marke, ps, farbe):\n",
    "        self.marke = marke\n",
    "        self.ps = ps\n",
    "        self.farbe = farbe"
   ]
  }
 ],
 "metadata": {
  "kernelspec": {
   "display_name": "Python 3",
   "language": "python",
   "name": "python3"
  },
  "language_info": {
   "codemirror_mode": {
    "name": "ipython",
    "version": 3
   },
   "file_extension": ".py",
   "mimetype": "text/x-python",
   "name": "python",
   "nbconvert_exporter": "python",
   "pygments_lexer": "ipython3",
   "version": "3.7.6"
  }
 },
 "nbformat": 4,
 "nbformat_minor": 4
}
